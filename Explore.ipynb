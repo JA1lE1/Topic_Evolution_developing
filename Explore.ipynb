{
 "cells": [
  {
   "cell_type": "code",
   "execution_count": 66,
   "metadata": {
    "ExecuteTime": {
     "end_time": "2019-06-21T12:07:15.563380Z",
     "start_time": "2019-06-21T12:07:15.559908Z"
    }
   },
   "outputs": [],
   "source": [
    "from data_prepare import data_prepare"
   ]
  },
  {
   "cell_type": "code",
   "execution_count": 67,
   "metadata": {
    "ExecuteTime": {
     "end_time": "2019-06-21T12:07:16.106529Z",
     "start_time": "2019-06-21T12:07:16.101593Z"
    }
   },
   "outputs": [
    {
     "data": {
      "text/plain": [
       "<generator object data_prepare at 0x000002F6B89201A8>"
      ]
     },
     "execution_count": 67,
     "metadata": {},
     "output_type": "execute_result"
    }
   ],
   "source": [
    "data_prepare()"
   ]
  },
  {
   "cell_type": "code",
   "execution_count": 72,
   "metadata": {
    "ExecuteTime": {
     "end_time": "2019-06-21T12:08:33.909660Z",
     "start_time": "2019-06-21T12:08:33.320376Z"
    }
   },
   "outputs": [
    {
     "name": "stdout",
     "output_type": "stream",
     "text": [
      "现在美国大选的结果开始出现了疑问，有三个州的选票可能被某国家黑客捣乱而需要重新计票。沙僧就这样在残酷的斗争中越来越成熟，越来越像一名合格的“机关干部”，最终修成了正果，被封为金身罗汉。般来讲，批评的多少和进步的大小是成反比例关系的，包括领导挑自己的亲信来批评的。回过头来看，一定要记住“在变应变”四个字，在变化中应对变化，其中，最重要的是自己要随时改变。\n",
      "\n",
      "跟格局小的人打交道，就像被缩骨伞夹住脑袋一样不痛快。号外号外，特朗普又出行政命令啦！行政命令有多强，买不了吃亏，买不了上当，是XX你就坚持60秒！吴承恩的人生经历，决定了《西游记》背后必然影射着中国特色的官场文化。没有石油的生活，可能比如今这种依赖石油的生活更加有趣和充实。\n",
      "\n",
      "实业兴国，炒房误国。干30年不如买套房，则对这个常规理念的异化，把它颠倒成“实业误国，炒房兴邦”。如此一来，几十年后，我们的未来又会怎么样呢？沈阳市用一条微博就宣布了说过的话立即可以不算，而葛老师那条微博不仅收不回说过的话，而且还放大了自己的尴尬。我第一次打开中文课本是在1976年。我记得毛泽东逝世、粉碎“四人帮”、邓小平改革等。中国的政治演进不是线性的，而是呈波浪形，但总体上，个人的自由度提高了。大局意识在最前面，是要求向中央看其；核心意识其次，是向中央的核心看齐。刘云山说“最根本的是在思想上政治上行动上同以习近平同志为总书记的党中央保持高度一致”，在这里，在本质上其实是向党中央和党中央的核心看齐。\n",
      "\n",
      "跟格局小的人打交道，就像被缩骨伞夹住脑袋一样不痛快。号外号外，特朗普又出行政命令啦！行政命令有多强，买不了吃亏，买不了上当，是XX你就坚持60秒！吴承恩的人生经历，决定了《西游记》背后必然影射着中国特色的官场文化。没有石油的生活，可能比如今这种依赖石油的生活更加有趣和充实。\n",
      "\n",
      "“漂亮50”的诸多个股已经运行到了溢价的位置。美国中长期经济仍将陷入缓慢增长模式。比尔盖茨加强研究并布局核电产业，可能是一种投机心态。线上+线下、交易+金融+后市场服务已经突破了传统认知\n",
      "\n"
     ]
    }
   ],
   "source": [
    "i = 0\n",
    "for text in data_prepare():\n",
    "    print(text)\n",
    "    print()\n",
    "    i = i+1\n",
    "    if i > 4:\n",
    "        break"
   ]
  },
  {
   "cell_type": "code",
   "execution_count": 33,
   "metadata": {
    "ExecuteTime": {
     "end_time": "2019-06-21T11:54:49.766589Z",
     "start_time": "2019-06-21T11:54:49.216525Z"
    }
   },
   "outputs": [
    {
     "data": {
      "text/plain": [
       "'现在美国大选的结果开始出现了疑问，有三个州的选票可能被某国家黑客捣乱而需要重新计票。沙僧就这样在残酷的斗争中越来越成熟，越来越像一名合格的“机关干部”，最终修成了正果，被封为金身罗汉。般来讲，批评的多少和进步的大小是成反比例关系的，包括领导挑自己的亲信来批评的。回过头来看，一定要记住“在变应变”四个字，在变化中应对变化，其中，最重要的是自己要随时改变。'"
      ]
     },
     "execution_count": 33,
     "metadata": {},
     "output_type": "execute_result"
    }
   ],
   "source": [
    "import pandas as pd\n",
    "news_data = pd.read_csv('cn_sina.csv')\n",
    "news_data.loc[0, 'fulltext1']"
   ]
  },
  {
   "cell_type": "code",
   "execution_count": 41,
   "metadata": {
    "ExecuteTime": {
     "end_time": "2019-06-21T11:59:16.379001Z",
     "start_time": "2019-06-21T11:59:16.375006Z"
    }
   },
   "outputs": [
    {
     "name": "stdout",
     "output_type": "stream",
     "text": [
      "0\n",
      "1\n",
      "2\n",
      "3\n",
      "4\n",
      "5\n"
     ]
    }
   ],
   "source": [
    "for i in range(len(news_data)):\n",
    "    print(i)\n",
    "    if i > 4:\n",
    "        break"
   ]
  },
  {
   "cell_type": "code",
   "execution_count": 70,
   "metadata": {
    "ExecuteTime": {
     "end_time": "2019-06-21T12:08:24.147447Z",
     "start_time": "2019-06-21T12:08:24.143479Z"
    }
   },
   "outputs": [],
   "source": [
    "def data_prepare():\n",
    "    '''\n",
    "    数据准备\n",
    "\n",
    "    '''\n",
    "\n",
    "    news_data = pd.read_csv('cn_sina.csv')\n",
    "    for i in range(53818):\n",
    "        yield news_data.loc[i, 'fulltext1']\n",
    "\n",
    "    # for i in range(53818):\n",
    "    #     if i == 2:\n",
    "    #         return news_data.loc[i, 'fulltext1']\n",
    "        \n",
    "    # return news_data.loc[1, 'fulltext1']\n",
    "#     return 2\n"
   ]
  },
  {
   "cell_type": "code",
   "execution_count": 71,
   "metadata": {
    "ExecuteTime": {
     "end_time": "2019-06-21T12:08:25.596891Z",
     "start_time": "2019-06-21T12:08:25.592923Z"
    }
   },
   "outputs": [
    {
     "data": {
      "text/plain": [
       "<generator object data_prepare at 0x000002F6B50AD410>"
      ]
     },
     "execution_count": 71,
     "metadata": {},
     "output_type": "execute_result"
    }
   ],
   "source": [
    "data_prepare()"
   ]
  },
  {
   "cell_type": "code",
   "execution_count": null,
   "metadata": {},
   "outputs": [],
   "source": []
  }
 ],
 "metadata": {
  "hide_input": false,
  "kernelspec": {
   "display_name": "Python (env_full_stack)",
   "language": "python",
   "name": "env_full_stack"
  },
  "language_info": {
   "codemirror_mode": {
    "name": "ipython",
    "version": 3
   },
   "file_extension": ".py",
   "mimetype": "text/x-python",
   "name": "python",
   "nbconvert_exporter": "python",
   "pygments_lexer": "ipython3",
   "version": "3.6.8"
  },
  "latex_envs": {
   "LaTeX_envs_menu_present": true,
   "autoclose": false,
   "autocomplete": true,
   "bibliofile": "biblio.bib",
   "cite_by": "apalike",
   "current_citInitial": 1,
   "eqLabelWithNumbers": true,
   "eqNumInitial": 1,
   "hotkeys": {
    "equation": "Ctrl-E",
    "itemize": "Ctrl-I"
   },
   "labels_anchors": false,
   "latex_user_defs": false,
   "report_style_numbering": false,
   "user_envs_cfg": false
  },
  "nbTranslate": {
   "displayLangs": [
    "*"
   ],
   "hotkey": "alt-t",
   "langInMainMenu": true,
   "sourceLang": "en",
   "targetLang": "fr",
   "useGoogleTranslate": true
  },
  "toc": {
   "base_numbering": 1,
   "nav_menu": {},
   "number_sections": true,
   "sideBar": true,
   "skip_h1_title": false,
   "title_cell": "Table of Contents",
   "title_sidebar": "Contents",
   "toc_cell": false,
   "toc_position": {},
   "toc_section_display": true,
   "toc_window_display": false
  },
  "varInspector": {
   "cols": {
    "lenName": 16,
    "lenType": 16,
    "lenVar": 40
   },
   "kernels_config": {
    "python": {
     "delete_cmd_postfix": "",
     "delete_cmd_prefix": "del ",
     "library": "var_list.py",
     "varRefreshCmd": "print(var_dic_list())"
    },
    "r": {
     "delete_cmd_postfix": ") ",
     "delete_cmd_prefix": "rm(",
     "library": "var_list.r",
     "varRefreshCmd": "cat(var_dic_list()) "
    }
   },
   "types_to_exclude": [
    "module",
    "function",
    "builtin_function_or_method",
    "instance",
    "_Feature"
   ],
   "window_display": false
  }
 },
 "nbformat": 4,
 "nbformat_minor": 2
}
